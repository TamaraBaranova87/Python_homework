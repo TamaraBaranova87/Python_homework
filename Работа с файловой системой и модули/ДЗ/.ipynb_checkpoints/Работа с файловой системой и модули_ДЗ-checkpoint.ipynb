{
 "cells": [
  {
   "cell_type": "code",
   "execution_count": 1,
   "metadata": {},
   "outputs": [],
   "source": [
    "import json\n",
    "user_id = []\n",
    "category = []\n",
    "with open('purchase_log.txt', encoding='utf-8') as f:\n",
    "    for line in f:\n",
    "        line = line.strip()\n",
    "        dict_ = json.loads(line)\n",
    "        user_id.append(dict_['user_id'])\n",
    "        category.append(dict_['category'])\n",
    "dictres = dict(zip(user_id[1:],category[1:]))"
   ]
  },
  {
   "cell_type": "code",
   "execution_count": 7,
   "metadata": {},
   "outputs": [],
   "source": [
    "list_ = []\n",
    "with open('visit_log.csv', 'r') as f2:\n",
    "    with open('funnel.csv', 'w') as f2write:\n",
    "        first_line = f2.readline()\n",
    "        list_.append(first_line.strip().split(',')[0])\n",
    "        list_.append(first_line.strip().split(',')[1])\n",
    "        list_.append(category[0])\n",
    "        f2write.write(','.join(list_) + '\\n')\n",
    "        for line in f2:\n",
    "            list_ = []\n",
    "            another_line = f2.readline()\n",
    "            if another_line.strip().split(',')[0] in user_id:\n",
    "                list_.append(another_line.strip().split(',')[0])\n",
    "                list_.append(another_line.strip().split(',')[1])\n",
    "                list_.append(dictres[another_line.strip().split(',')[0]])\n",
    "                f2write.write(','.join(list_) + '\\n')             "
   ]
  }
 ],
 "metadata": {
  "kernelspec": {
   "display_name": "Python 3",
   "language": "python",
   "name": "python3"
  },
  "language_info": {
   "codemirror_mode": {
    "name": "ipython",
    "version": 3
   },
   "file_extension": ".py",
   "mimetype": "text/x-python",
   "name": "python",
   "nbconvert_exporter": "python",
   "pygments_lexer": "ipython3",
   "version": "3.8.3"
  }
 },
 "nbformat": 4,
 "nbformat_minor": 4
}
