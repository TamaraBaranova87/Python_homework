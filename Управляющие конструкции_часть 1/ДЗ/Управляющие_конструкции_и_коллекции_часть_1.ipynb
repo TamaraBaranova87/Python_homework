{
 "cells": [
  {
   "cell_type": "markdown",
   "metadata": {},
   "source": [
    "### Задание 1"
   ]
  },
  {
   "cell_type": "code",
   "execution_count": 43,
   "metadata": {},
   "outputs": [
    {
     "name": "stdout",
     "output_type": "stream",
     "text": [
      "Введите слово \n",
      "testing\n",
      "t\n"
     ]
    }
   ],
   "source": [
    "word=input('Введите слово \\n')\n",
    "if int(len(word))%2==0:\n",
    "    my_string=word[(int(len(word))//2-1):(int(len(word))//2+1)]\n",
    "else:\n",
    "    my_string=word[(int(len(word))//2)]\n",
    "print(my_string)"
   ]
  },
  {
   "cell_type": "code",
   "execution_count": 44,
   "metadata": {},
   "outputs": [
    {
     "name": "stdout",
     "output_type": "stream",
     "text": [
      "Введите слово \n",
      "test\n",
      "es\n"
     ]
    }
   ],
   "source": [
    "word=input('Введите слово \\n')\n",
    "if int(len(word))%2==0:\n",
    "    my_string=word[(int(len(word))//2-1):(int(len(word))//2+1)]\n",
    "else:\n",
    "    my_string=word[(int(len(word))//2)]\n",
    "print(my_string)"
   ]
  },
  {
   "cell_type": "markdown",
   "metadata": {},
   "source": [
    "### Задание 2"
   ]
  },
  {
   "cell_type": "code",
   "execution_count": 4,
   "metadata": {},
   "outputs": [
    {
     "name": "stdout",
     "output_type": "stream",
     "text": [
      "Введите число \n",
      "1\n",
      "Введите число \n",
      "2\n",
      "Введите число \n",
      "3\n",
      "Введите число \n",
      "0\n",
      "Результат: \n",
      "6\n"
     ]
    }
   ],
   "source": [
    "x=input('Введите число \\n')\n",
    "y=0\n",
    "while int(x)!=0:\n",
    "        y=y+int(x)\n",
    "        x=input('Введите число \\n')\n",
    "print('Результат: \\n'+str(y))"
   ]
  },
  {
   "cell_type": "code",
   "execution_count": 5,
   "metadata": {},
   "outputs": [
    {
     "name": "stdout",
     "output_type": "stream",
     "text": [
      "Введите число \n",
      "0\n",
      "Результат: \n",
      "0\n"
     ]
    }
   ],
   "source": [
    "x=input('Введите число \\n')\n",
    "y=0\n",
    "while int(x)!=0:\n",
    "        y=y+int(x)\n",
    "        x=input('Введите число \\n')\n",
    "print('Результат: \\n'+str(y))"
   ]
  },
  {
   "cell_type": "markdown",
   "metadata": {},
   "source": [
    "### Задание 3"
   ]
  },
  {
   "cell_type": "code",
   "execution_count": 31,
   "metadata": {},
   "outputs": [
    {
     "name": "stdout",
     "output_type": "stream",
     "text": [
      "Alex  и  Emma \n",
      "\n",
      "Arthur  и  Kate \n",
      "\n",
      "John  и  Kira \n",
      "\n",
      "Peter  и  Liza \n",
      "\n",
      "Richard  и  Trisha \n",
      "\n"
     ]
    }
   ],
   "source": [
    "boys=['Peter','Alex','John','Arthur','Richard']\n",
    "girls=['Kate','Liza','Kira','Emma','Trisha']\n",
    "if len(boys)!=len(girls):\n",
    "    print('Внимание, кто-то может остаться без пары!')\n",
    "else:\n",
    "    boys_girls=zip(sorted(boys),sorted(girls))\n",
    "    for pair in boys_girls:\n",
    "        print(pair[0], ' и ', pair[1], '\\n')"
   ]
  },
  {
   "cell_type": "code",
   "execution_count": 32,
   "metadata": {},
   "outputs": [
    {
     "name": "stdout",
     "output_type": "stream",
     "text": [
      "Внимание, кто-то может остаться без пары!\n"
     ]
    }
   ],
   "source": [
    "boys=['Peter','Alex','John','Arthur','Richard','Michael']\n",
    "girls=['Kate','Liza','Kira','Emma','Trisha']\n",
    "if len(boys)!=len(girls):\n",
    "    print('Внимание, кто-то может остаться без пары!')\n",
    "else:\n",
    "    boys_girls=zip(sorted(boys),sorted(girls))\n",
    "    for pair in boys_girls:\n",
    "        print(pair[0], ' и ', pair[1], '\\n')"
   ]
  },
  {
   "cell_type": "markdown",
   "metadata": {},
   "source": [
    "### Задание 4"
   ]
  },
  {
   "cell_type": "code",
   "execution_count": 46,
   "metadata": {},
   "outputs": [
    {
     "name": "stdout",
     "output_type": "stream",
     "text": [
      "Thailand  -  23.9 \n",
      "\n",
      "Germany  -  13.8 \n",
      "\n",
      "Russia  -  3.7 \n",
      "\n",
      "Poland  -  12.0 \n",
      "\n"
     ]
    }
   ],
   "source": [
    "countries_temperature = [['Thailand', [75.2, 77, 78.8, 73.4, 68, 75.2, 77]],['Germany', [57.2, 55.4, 59, 59, 53.6]],['Russia', [35.6, 37.4, 39.2, 41, 42.8, 39.2, 35.6]],['Poland', [50, 50, 53.6, 57.2, 55.4, 55.4]]]\n",
    "for country in countries_temperature:\n",
    "    avr_temp=round((sum(country[1])/len(country[1])-32)*5/9,1)\n",
    "    print(country[0], ' - ', avr_temp, '\\n')\n"
   ]
  },
  {
   "cell_type": "markdown",
   "metadata": {},
   "source": [
    "### Задание 5"
   ]
  },
  {
   "cell_type": "code",
   "execution_count": 117,
   "metadata": {},
   "outputs": [
    {
     "name": "stdout",
     "output_type": "stream",
     "text": [
      "Среднее количество просмотров на уникального пользователя:  145.33\n"
     ]
    }
   ],
   "source": [
    "stream = ['2018-01-01,user100,150','2018-01-07,user99,205','2018-03-29,user1001,81']\n",
    "view=[]\n",
    "users=[]\n",
    "unic_users=[]\n",
    "for user in stream:\n",
    "    view.append(int(user.split(',')[2]))\n",
    "    users.append(user.split(',')[1])\n",
    "for item in users:\n",
    "    if item not in unic_users:\n",
    "        unic_users.append(item)\n",
    "print('Среднее количество просмотров на уникального пользователя: ', str(round(sum(view)/len(unic_users),2)))"
   ]
  },
  {
   "cell_type": "code",
   "execution_count": 119,
   "metadata": {},
   "outputs": [
    {
     "name": "stdout",
     "output_type": "stream",
     "text": [
      "Среднее количество просмотров на уникального пользователя:  23.25\n"
     ]
    }
   ],
   "source": [
    "stream = [\n",
    "'2018-01-01,user1,3',\n",
    "'2018-01-07,user1,4',\n",
    "'2018-03-29,user1,1',\n",
    "'2018-04-04,user1,13',\n",
    "'2018-01-05,user2,7',\n",
    "'2018-06-14,user3,4',\n",
    "'2018-07-02,user3,10',\n",
    "'2018-03-21,user4,19',\n",
    "'2018-03-22,user4,4',\n",
    "'2018-04-22,user4,8',\n",
    "'2018-05-03,user4,9',\n",
    "'2018-05-11,user4,11',\n",
    "]\n",
    "view=[]\n",
    "users=[]\n",
    "unic_users=[]\n",
    "for user in stream:\n",
    "    view.append(int(user.split(',')[2]))\n",
    "    users.append(user.split(',')[1])\n",
    "for item in users:\n",
    "    if item not in unic_users:\n",
    "        unic_users.append(item)\n",
    "print('Среднее количество просмотров на уникального пользователя: ', str(round(sum(view)/len(unic_users),2)))"
   ]
  },
  {
   "cell_type": "markdown",
   "metadata": {},
   "source": [
    "### Задание 6"
   ]
  },
  {
   "cell_type": "code",
   "execution_count": 140,
   "metadata": {},
   "outputs": [
    {
     "name": "stdout",
     "output_type": "stream",
     "text": [
      "Введите числа (с пробелом в качестве разделителя) \n",
      "1 1 1 5 5 6 6 8 9\n",
      "1 5 6\n"
     ]
    }
   ],
   "source": [
    "x=input('Введите числа (с пробелом в качестве разделителя) \\n')\n",
    "y=x.split(' ')\n",
    "not_unic=[]\n",
    "for item in y:\n",
    "    if y.count(item)>1 and item not in not_unic:\n",
    "        not_unic.append(item)\n",
    "print(' '.join(not_unic))"
   ]
  }
 ],
 "metadata": {
  "kernelspec": {
   "display_name": "Python 3",
   "language": "python",
   "name": "python3"
  },
  "language_info": {
   "codemirror_mode": {
    "name": "ipython",
    "version": 3
   },
   "file_extension": ".py",
   "mimetype": "text/x-python",
   "name": "python",
   "nbconvert_exporter": "python",
   "pygments_lexer": "ipython3",
   "version": "3.8.3"
  }
 },
 "nbformat": 4,
 "nbformat_minor": 4
}
