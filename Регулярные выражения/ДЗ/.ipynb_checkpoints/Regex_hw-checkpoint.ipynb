{
 "cells": [
  {
   "cell_type": "code",
   "execution_count": 2,
   "metadata": {},
   "outputs": [],
   "source": [
    "import re"
   ]
  },
  {
   "cell_type": "code",
   "execution_count": 99,
   "metadata": {},
   "outputs": [],
   "source": [
    "def car_number():\n",
    "    car_id = input('\\n Введите транспортный номер \\n')\n",
    "    regex_result = r'([a-zA-Z]{1}\\d{3}[a-zA-Z]{2})(\\d{2,3})'\n",
    "    result = re.search(regex_result,car_id)\n",
    "    if result != None:\n",
    "        print('Номер ' + result.group(1) + ' валиден. Регион: ' + result.group(2))\n",
    "    else:\n",
    "        print('Номер не валиден')\n",
    "    return"
   ]
  },
  {
   "cell_type": "code",
   "execution_count": 264,
   "metadata": {},
   "outputs": [],
   "source": [
    "def rep():    \n",
    "    some_string = input('\\n Введите текст \\n')\n",
    "    print(re.sub(r'\\b([^\\W\\d_]+)(\\s+\\1)+\\b', r'\\1',some_string))\n",
    "    return"
   ]
  },
  {
   "cell_type": "code",
   "execution_count": 265,
   "metadata": {},
   "outputs": [],
   "source": [
    "def acr():\n",
    "    some_words = input('\\n Введите текст \\n')\n",
    "    print(re.sub(r'\\b(\\w)\\w*\\s*', r'\\1',some_words.upper()))\n",
    "    return"
   ]
  },
  {
   "cell_type": "code",
   "execution_count": 252,
   "metadata": {},
   "outputs": [],
   "source": [
    "def domen():\n",
    "    emails = ['test@gmail.com', 'xyz@test.in', 'test@ya.ru', 'xyz@mail.ru', 'xyz@ya.ru', 'xyz@gmail.com']\n",
    "    list_ = []\n",
    "    dict_ = {}\n",
    "    for email in emails:\n",
    "        list_.append(re.findall(r'\\w*\\.\\w*(?!@)', email)[0])\n",
    "    for i in list_:\n",
    "        if i in dict_:\n",
    "            dict_[i] += 1\n",
    "        else:\n",
    "            dict_[i] = 1\n",
    "    for key,value in dict_.items():\n",
    "        print(str(key) + ': ' + str(value))\n",
    "    return"
   ]
  },
  {
   "cell_type": "code",
   "execution_count": 267,
   "metadata": {},
   "outputs": [],
   "source": [
    "def word():\n",
    "    some_text = 'Эталонной реализацией Python является интерпретатор CPython, поддерживающий большинство активно используемых платформ. Он распространяется под свободной лицензией Python Software Foundation License, позволяющей использовать его без ограничений в любых приложениях, включая проприетарные.'\n",
    "    print('Слов на гласные буквы: ' + str(len(re.findall(r'\\b[aeiouyAEIOUYаеёиоуыэюяАЕЁИОУЫЭЮЯ]', some_text))))\n",
    "    print('Слов на согласные буквы: ' + str(len(re.findall(r'\\b[^aeiouyAEIOUYаеёиоуыэюяАЕЁИОУЫЭЮЯ\\d\\s,.!?]', some_text))))  \n",
    "    return"
   ]
  },
  {
   "cell_type": "code",
   "execution_count": 285,
   "metadata": {},
   "outputs": [],
   "source": [
    "def phone():\n",
    "    phone = input('\\nВведите номер\\n')\n",
    "    regex_result = r'\\W*[7|8]\\W*(\\d{3})\\W*(\\d{3})\\W*(\\d{2})\\W*(\\d{2})'\n",
    "    result = re.search(regex_result,phone)\n",
    "    if result != None:\n",
    "        print(re.sub(regex_result, r'+7-\\1-\\2-\\3-\\4',phone))\n",
    "    else:\n",
    "        print('Номер не валиден')\n",
    "    return"
   ]
  },
  {
   "cell_type": "code",
   "execution_count": 287,
   "metadata": {},
   "outputs": [],
   "source": [
    "def menu():\n",
    "    while True:\n",
    "        user_input = input('\\nВведите команду\\n')\n",
    "        if user_input == 'c':\n",
    "            car_number()\n",
    "        elif user_input == 'r':\n",
    "                rep()\n",
    "        elif user_input == 'a':\n",
    "            acr()\n",
    "        elif user_input == 'd':\n",
    "            domen()\n",
    "        elif user_input == 'w':\n",
    "            word()\n",
    "        elif user_input == 'p':\n",
    "            phone()\n",
    "        elif user_input == 'q':\n",
    "            break\n",
    "    return"
   ]
  },
  {
   "cell_type": "code",
   "execution_count": 288,
   "metadata": {},
   "outputs": [
    {
     "name": "stdout",
     "output_type": "stream",
     "text": [
      "\n",
      "Введите команду\n",
      "c\n",
      "\n",
      " Введите транспортный номер \n",
      "A222BC96\n",
      "Номер A222BC валиден. Регион: 96\n",
      "\n",
      "Введите команду\n",
      "АБ22ВВ193\n",
      "\n",
      "Введите команду\n",
      "c\n",
      "\n",
      " Введите транспортный номер \n",
      "АБ22ВВ193\n",
      "Номер не валиден\n",
      "\n",
      "Введите команду\n",
      "r\n",
      "\n",
      " Введите текст \n",
      "Напишите функцию функцию, которая будет будет будет будет удалять все все все все последовательные повторы слов из из из из заданной строки строки при помощи регулярных выражений.\n",
      "Напишите функцию, которая будет удалять все последовательные повторы слов из заданной строки при помощи регулярных выражений.\n",
      "\n",
      "Введите команду\n",
      "a\n",
      "\n",
      " Введите текст \n",
      "Информационные технологии\n",
      "ИТ\n",
      "\n",
      "Введите команду\n",
      "Near Field Communication\n",
      "\n",
      "Введите команду\n",
      "a\n",
      "\n",
      " Введите текст \n",
      "Near Field Communication\n",
      "NFC\n",
      "\n",
      "Введите команду\n",
      "a\n",
      "\n",
      " Введите текст \n",
      "dc\n",
      "D\n",
      "\n",
      "Введите команду\n",
      "d\n",
      "gmail.com: 2\n",
      "test.in: 1\n",
      "ya.ru: 2\n",
      "mail.ru: 1\n",
      "\n",
      "Введите команду\n",
      "w\n",
      "Слов на гласные буквы: 9\n",
      "Слов на согласные буквы: 21\n",
      "\n",
      "Введите команду\n",
      "p\n",
      "\n",
      "Введите номер\n",
      "+7 955 555-55-55\n",
      "+7-955-555-55-55\n",
      "\n",
      "Введите команду\n",
      "p\n",
      "\n",
      "Введите номер\n",
      "8(955)555-55-55\n",
      "+7-955-555-55-55\n",
      "\n",
      "Введите команду\n",
      "p\n",
      "\n",
      "Введите номер\n",
      "+7 955 555 55 55\n",
      "+7-955-555-55-55\n",
      "\n",
      "Введите команду\n",
      "p\n",
      "\n",
      "Введите номер\n",
      "7(955) 555-55-55\n",
      "+7-955-555-55-55\n",
      "\n",
      "Введите команду\n",
      "p\n",
      "\n",
      "Введите номер\n",
      "423-555-55-5555\n",
      "Номер не валиден\n",
      "\n",
      "Введите команду\n",
      "p\n",
      "\n",
      "Введите номер\n",
      "123-456-789\n",
      "Номер не валиден\n",
      "\n",
      "Введите команду\n",
      "q\n"
     ]
    }
   ],
   "source": [
    "menu()"
   ]
  }
 ],
 "metadata": {
  "kernelspec": {
   "display_name": "Python 3",
   "language": "python",
   "name": "python3"
  },
  "language_info": {
   "codemirror_mode": {
    "name": "ipython",
    "version": 3
   },
   "file_extension": ".py",
   "mimetype": "text/x-python",
   "name": "python",
   "nbconvert_exporter": "python",
   "pygments_lexer": "ipython3",
   "version": "3.8.3"
  }
 },
 "nbformat": 4,
 "nbformat_minor": 4
}
