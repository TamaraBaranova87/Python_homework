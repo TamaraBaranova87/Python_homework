{
 "cells": [
  {
   "cell_type": "markdown",
   "metadata": {},
   "source": [
    "### Задание 1"
   ]
  },
  {
   "cell_type": "code",
   "execution_count": 3,
   "metadata": {},
   "outputs": [
    {
     "name": "stdout",
     "output_type": "stream",
     "text": [
      "Фраза 1 длиннее фразы 2\n",
      "Конец программы\n"
     ]
    }
   ],
   "source": [
    "phrase_1 = 'Насколько проще было бы писать программы, если бы не заказчики'\n",
    "phrase_2 = '640Кб должно хватить для любых задач. Билл Гейтс (по легенде)'\n",
    "if len(phrase_1)<len(phrase_2):\n",
    "    print('Фраза 2 длиннее фразы 1')\n",
    "elif len(phrase_1)==len(phrase_2):\n",
    "    print('Фразы равной длины')\n",
    "else:\n",
    "    print('Фраза 1 длиннее фразы 2')\n",
    "print('Конец программы')"
   ]
  },
  {
   "cell_type": "code",
   "execution_count": 4,
   "metadata": {},
   "outputs": [
    {
     "name": "stdout",
     "output_type": "stream",
     "text": [
      "Фраза 2 длиннее фразы 1\n",
      "Конец программы\n"
     ]
    }
   ],
   "source": [
    "phrase_1 = '640Кб должно хватить для любых задач. Билл Гейтс (по легенде)'\n",
    "phrase_2 = 'Насколько проще было бы писать программы, если бы не заказчики'\n",
    "if len(phrase_1)<len(phrase_2):\n",
    "    print('Фраза 2 длиннее фразы 1')\n",
    "elif len(phrase_1)==len(phrase_2):\n",
    "    print('Фразы равной длины')\n",
    "else:\n",
    "    print('Фраза 1 длиннее фразы 2')\n",
    "print('Конец программы')"
   ]
  },
  {
   "cell_type": "code",
   "execution_count": 5,
   "metadata": {},
   "outputs": [
    {
     "name": "stdout",
     "output_type": "stream",
     "text": [
      "Фразы равной длины\n",
      "Конец программы\n"
     ]
    }
   ],
   "source": [
    "phrase_1 = 'Насколько проще было бы писать программы, если бы не заказчики'\n",
    "phrase_2 = 'Насколько проще было бы писать программы, если бы не заказчики'\n",
    "if len(phrase_1)<len(phrase_2):\n",
    "    print('Фраза 2 длиннее фразы 1')\n",
    "elif len(phrase_1)==len(phrase_2):\n",
    "    print('Фразы равной длины')\n",
    "else:\n",
    "    print('Фраза 1 длиннее фразы 2')\n",
    "print('Конец программы')"
   ]
  },
  {
   "cell_type": "markdown",
   "metadata": {},
   "source": [
    "### Задание 2"
   ]
  },
  {
   "cell_type": "code",
   "execution_count": 6,
   "metadata": {},
   "outputs": [
    {
     "name": "stdout",
     "output_type": "stream",
     "text": [
      "Високосный год\n",
      "Конец программы\n"
     ]
    }
   ],
   "source": [
    "year=2020\n",
    "if year%4==0:\n",
    "    print('Високосный год')\n",
    "else:\n",
    "    print('Обычный год')\n",
    "print('Конец программы')"
   ]
  },
  {
   "cell_type": "code",
   "execution_count": 7,
   "metadata": {},
   "outputs": [
    {
     "name": "stdout",
     "output_type": "stream",
     "text": [
      "Обычный год\n",
      "Конец программы\n"
     ]
    }
   ],
   "source": [
    "year=2019\n",
    "if year%4==0:\n",
    "    print('Високосный год')\n",
    "else:\n",
    "    print('Обычный год')\n",
    "print('Конец программы')"
   ]
  },
  {
   "cell_type": "markdown",
   "metadata": {},
   "source": [
    "### Задание 3"
   ]
  },
  {
   "cell_type": "code",
   "execution_count": 24,
   "metadata": {},
   "outputs": [
    {
     "name": "stdout",
     "output_type": "stream",
     "text": [
      "Введите день:\n",
      " 1\n",
      "Введите месяц:\n",
      " апрель\n",
      "Ваш знак зодиака: Овен\n",
      "Конец программы\n"
     ]
    }
   ],
   "source": [
    "day= int(input('Введите день:\\n '))\n",
    "month= input('Введите месяц:\\n ')\n",
    "if (month==\"декабрь\" and 22<=day<=31) or (month==\"январь\" and 1<=day<=20):\n",
    "    print('Ваш знак зодиака: Козерог')\n",
    "elif (month==\"январь\" and 21<=day<=31) or (month==\"февраль\" and 1<=day<=20):\n",
    "    print('Ваш знак зодиака: Водолей')\n",
    "elif (month==\"февраль\" and 21<=day<=29) or (month==\"март\" and 1<=day<=20):\n",
    "    print('Ваш знак зодиака: Рыбы')\n",
    "elif (month==\"март\" and 21<=day<=31) or (month==\"апрель\" and 1<=day<=20):\n",
    "    print('Ваш знак зодиака: Овен')\n",
    "elif (month==\"апрель\" and 21<=day<=30) or (month==\"май\" and 1<=day<=20):\n",
    "    print('Ваш знак зодиака: Телец')\n",
    "elif (month==\"май\" and 21<=day<=31) or (month==\"июнь\" and 1<=day<=21):\n",
    "    print('Ваш знак зодиака: Близнецы')\n",
    "elif (month==\"июнь\" and 22<=day<=30) or (month==\"июль\" and 1<=day<=22):\n",
    "    print('Ваш знак зодиака: Рак')\n",
    "elif (month==\"июль\" and 23<=day<=31) or (month==\"август\" and 1<=day<=23):\n",
    "    print('Ваш знак зодиака: Лев')\n",
    "elif (month==\"август\" and 24<=day<=31) or (month==\"сентябрь\" and 1<=day<=23):\n",
    "    print('Ваш знак зодиака: Дева')\n",
    "elif (month==\"сентябрь\" and 24<=day<=30) or (month==\"октябрь\" and 1<=day<=23):\n",
    "    print('Ваш знак зодиака: Весы')\n",
    "elif (month==\"октябрь\" and 24<=day<=31) or (month==\"ноябрь\" and 1<=day<=22):\n",
    "    print('Ваш знак зодиака: Скорпион')\n",
    "elif (month==\"ноябрь\" and 23<=day<=30) or (month==\"декабрь\" and 1<=day<=21):\n",
    "    print('Ваш знак зодиака: Стрелец')\n",
    "else:\n",
    "    print('Введена некорректная дата')\n",
    "print('Конец программы')"
   ]
  },
  {
   "cell_type": "markdown",
   "metadata": {},
   "source": [
    "### Задание 4"
   ]
  },
  {
   "cell_type": "code",
   "execution_count": 16,
   "metadata": {},
   "outputs": [
    {
     "name": "stdout",
     "output_type": "stream",
     "text": [
      "Упаковка для лыж\n",
      "Конец программы\n"
     ]
    }
   ],
   "source": [
    "width = 10\n",
    "length = 205\n",
    "height = 5\n",
    "if width<15 and length<15 and height<15:\n",
    "    print('Коробка №1')\n",
    "elif length>200:\n",
    "    print('Упаковка для лыж')\n",
    "elif 15<width<50 or 15<length<50 or 15<height<50:\n",
    "    print('Коробка №2')\n",
    "else:\n",
    "    print('Стандартная коробка №3')\n",
    "print('Конец программы')"
   ]
  },
  {
   "cell_type": "markdown",
   "metadata": {},
   "source": [
    "### Задание 5"
   ]
  },
  {
   "cell_type": "code",
   "execution_count": 1,
   "metadata": {},
   "outputs": [
    {
     "name": "stdout",
     "output_type": "stream",
     "text": [
      "Введите номер билета:\n",
      " 123123\n",
      "Счастливый билет\n",
      "Конец программы\n"
     ]
    }
   ],
   "source": [
    "number=str(input('Введите номер билета:\\n '))\n",
    "if len(number)!=6 or not(number.isdigit()):\n",
    "    print('Введен некорректный номер билета')\n",
    "elif int(number[0])+int(number[1])+int(number[2])==int(number[3])+int(number[4])+int(number[5]):\n",
    "    print('Счастливый билет')\n",
    "else:\n",
    "    print('Несчастливый билет')\n",
    "print('Конец программы')"
   ]
  },
  {
   "cell_type": "markdown",
   "metadata": {},
   "source": [
    "### Задание 6"
   ]
  },
  {
   "cell_type": "code",
   "execution_count": 10,
   "metadata": {},
   "outputs": [
    {
     "name": "stdout",
     "output_type": "stream",
     "text": [
      "Введите тип фигуры (круг, треугольник, прямоугольник):\n",
      " овал\n",
      "Выбран некорректный тип фигуры\n",
      "Конец программы\n"
     ]
    }
   ],
   "source": [
    "figure=input('Введите тип фигуры (круг, треугольник, прямоугольник):\\n ')\n",
    "import math\n",
    "if figure.lower()=='круг':\n",
    "    r=int(input('Введите радиус круга:\\n '))\n",
    "    s=math.pi*(r**2)\n",
    "    print(s)\n",
    "elif figure.lower()=='треугольник':\n",
    "    a=int(input('Введите длину стороны А:\\n '))\n",
    "    b=int(input('Введите длину стороны В:\\n '))\n",
    "    c=int(input('Введите длину стороны С:\\n '))\n",
    "    p=(a+b+c)/2\n",
    "    s=math.sqrt(p*(p-a)*(p-b)*(p-c))\n",
    "    print(s)\n",
    "elif figure.lower()=='прямоугольник':\n",
    "    a=int(input('Введите длину стороны А:\\n '))\n",
    "    b=int(input('Введите длину стороны В:\\n '))\n",
    "    s=a*b\n",
    "    print(s)\n",
    "else:\n",
    "    print('Выбран некорректный тип фигуры')\n",
    "print('Конец программы')"
   ]
  }
 ],
 "metadata": {
  "kernelspec": {
   "display_name": "Python 3",
   "language": "python",
   "name": "python3"
  },
  "language_info": {
   "codemirror_mode": {
    "name": "ipython",
    "version": 3
   },
   "file_extension": ".py",
   "mimetype": "text/x-python",
   "name": "python",
   "nbconvert_exporter": "python",
   "pygments_lexer": "ipython3",
   "version": "3.8.3"
  }
 },
 "nbformat": 4,
 "nbformat_minor": 4
}
