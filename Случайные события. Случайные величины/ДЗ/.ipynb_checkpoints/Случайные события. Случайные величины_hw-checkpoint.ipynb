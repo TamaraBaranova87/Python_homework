{
 "cells": [
  {
   "cell_type": "code",
   "execution_count": 1,
   "metadata": {},
   "outputs": [],
   "source": [
    "import numpy as np\n",
    "import re"
   ]
  },
  {
   "cell_type": "code",
   "execution_count": 4,
   "metadata": {},
   "outputs": [
    {
     "name": "stdout",
     "output_type": "stream",
     "text": [
      "-0.1692\n"
     ]
    }
   ],
   "source": [
    "trials = 1000000    # Количество попыток\n",
    "successes = 0    # Количество успехов\n",
    "pay = 0\n",
    "\n",
    "regex1 = []\n",
    "regex2 = []\n",
    "regex3 = []\n",
    "regex4 = []\n",
    "list_ = []\n",
    "for j in range(1000):\n",
    "    list_.append(j)\n",
    "for j in list_:\n",
    "    if re.findall(r'\\d{1}77',str(j)) != []:\n",
    "        regex1.append(j)\n",
    "    elif re.findall(r'\\d{2}7',str(j)) != []:\n",
    "        regex2.append(j)\n",
    "    elif re.findall(r'\\d{1}00',str(j)) != []:\n",
    "        regex3.append(j)\n",
    "    elif re.findall(r'\\d{2}0',str(j)) != []:\n",
    "        regex4.append(j)\n",
    "win_comb = {200:[777], 100:[999], 50:[555], 15:[333], 10:[111], 5:regex1, 3:regex2, 2:regex3, 1:regex4}\n",
    "\n",
    "win=[]\n",
    "for i in range(trials):\n",
    "    random_comb = np.random.randint(100, 1000)\n",
    "    \n",
    "    pay += 1\n",
    "    for key,value in win_comb.items():\n",
    "        if random_comb in value:\n",
    "            successes += 1\n",
    "            win.append(key)\n",
    "av_win=(sum(win)-pay)/trials\n",
    "print (av_win)\n"
   ]
  },
  {
   "cell_type": "code",
   "execution_count": 5,
   "metadata": {},
   "outputs": [
    {
     "name": "stdout",
     "output_type": "stream",
     "text": [
      "-0.15333333333333338\n"
     ]
    }
   ],
   "source": [
    "col = len(list_) - 100\n",
    "av_win_teor = ((1/col * (200 + 100 + 50 + 15 + 10) + 5 * len(regex1) / col + 3 * len(regex2) / col +\n",
    "        2 * len(regex3) / col + 1 * len(regex4) / col) * trials - pay) / trials\n",
    "print(av_win_teor)"
   ]
  }
 ],
 "metadata": {
  "kernelspec": {
   "display_name": "Python 3",
   "language": "python",
   "name": "python3"
  },
  "language_info": {
   "codemirror_mode": {
    "name": "ipython",
    "version": 3
   },
   "file_extension": ".py",
   "mimetype": "text/x-python",
   "name": "python",
   "nbconvert_exporter": "python",
   "pygments_lexer": "ipython3",
   "version": "3.8.3"
  }
 },
 "nbformat": 4,
 "nbformat_minor": 4
}
