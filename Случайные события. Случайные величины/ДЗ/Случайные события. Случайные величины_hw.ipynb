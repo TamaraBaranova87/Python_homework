{
 "cells": [
  {
   "cell_type": "code",
   "execution_count": 1,
   "metadata": {},
   "outputs": [],
   "source": [
    "import numpy as np\n",
    "import re"
   ]
  },
  {
   "cell_type": "code",
   "execution_count": 27,
   "metadata": {},
   "outputs": [
    {
     "name": "stdout",
     "output_type": "stream",
     "text": [
      "['077', '177', '277', '377', '477', '577', '677', '877', '977']\n",
      "['007', '017', '027', '037', '047', '057', '067', '087', '097', '107', '117', '127', '137', '147', '157', '167', '187', '197', '207', '217', '227', '237', '247', '257', '267', '287', '297', '307', '317', '327', '337', '347', '357', '367', '387', '397', '407', '417', '427', '437', '447', '457', '467', '487', '497', '507', '517', '527', '537', '547', '557', '567', '587', '597', '607', '617', '627', '637', '647', '657', '667', '687', '697', '707', '717', '727', '737', '747', '757', '767', '787', '797', '807', '817', '827', '837', '847', '857', '867', '887', '897', '907', '917', '927', '937', '947', '957', '967', '987', '997']\n",
      "['000', '100', '200', '300', '400', '500', '600', '700', '800', '900']\n",
      "['010', '020', '030', '040', '050', '060', '070', '080', '090', '110', '120', '130', '140', '150', '160', '170', '180', '190', '210', '220', '230', '240', '250', '260', '270', '280', '290', '310', '320', '330', '340', '350', '360', '370', '380', '390', '410', '420', '430', '440', '450', '460', '470', '480', '490', '510', '520', '530', '540', '550', '560', '570', '580', '590', '610', '620', '630', '640', '650', '660', '670', '680', '690', '710', '720', '730', '740', '750', '760', '770', '780', '790', '810', '820', '830', '840', '850', '860', '870', '880', '890', '910', '920', '930', '940', '950', '960', '970', '980', '990']\n",
      "Расчет со словарем:  -0.211468\n",
      "Расчет с условием:  -0.211468\n"
     ]
    }
   ],
   "source": [
    "trials = 1000000    # Количество попыток\n",
    "successes = 0    # Количество успехов\n",
    "pay = 0\n",
    "\n",
    "regex1 = []\n",
    "regex2 = []\n",
    "regex3 = []\n",
    "regex4 = []\n",
    "list_ = []\n",
    "for j in range(1000):\n",
    "    list_.append(str(j))\n",
    "\n",
    "for j in list_:\n",
    "    if int(j) < 10:\n",
    "        j = str('00') + j\n",
    "    elif int(j) < 100:\n",
    "        j = str(0) + j\n",
    "    if re.findall(r'\\d{1}77', j) != [] and j != '777':\n",
    "        regex1.append(j)\n",
    "    elif re.findall(r'\\d{2}7',j) != [] and j != '777':\n",
    "        regex2.append(j)\n",
    "    elif re.findall(r'\\d{1}00',j) != []:\n",
    "        regex3.append(j)\n",
    "    elif re.findall(r'\\d{2}0',j) != []:\n",
    "        regex4.append(j)\n",
    "print(regex1)\n",
    "print(regex2)\n",
    "print(regex3)\n",
    "print(regex4)\n",
    "win_comb = {200:['777'], 100:['999'], 50:['555'], 15:['333'], 10:['111'], 5:regex1, 3:regex2, 2:regex3, 1:regex4}\n",
    "\n",
    "win=[]\n",
    "gains = 0\n",
    "for i in range(trials):\n",
    "    random_comb = np.random.randint(0, 1000)\n",
    "    if random_comb == 777:\n",
    "        gains += 200\n",
    "    elif random_comb == 999:\n",
    "        gains += 100\n",
    "    elif random_comb == 555:\n",
    "        gains += 50\n",
    "    elif random_comb == 333:\n",
    "        gains += 15\n",
    "    elif random_comb == 111:\n",
    "        gains += 10\n",
    "    elif random_comb % 100 == 77:\n",
    "        gains += 5\n",
    "    elif random_comb % 10 == 7:\n",
    "        gains += 3\n",
    "    elif random_comb % 100 == 0 or random_comb == 0:\n",
    "        gains += 2\n",
    "    elif random_comb % 10 == 0:\n",
    "        gains += 1\n",
    "    pay += 1\n",
    "    if random_comb < 10:\n",
    "        random_comb = str('00') + str(random_comb)\n",
    "    elif random_comb < 100:\n",
    "        random_comb = str(0) + str(random_comb)\n",
    "    \n",
    "    for key,value in win_comb.items():\n",
    "        if str(random_comb) in value:\n",
    "            successes += 1\n",
    "            win.append(key)\n",
    "            break\n",
    "av_win=(sum(win) - pay) / trials\n",
    "av_gain=(gains - pay) / trials\n",
    "\n",
    "print ('Расчет со словарем: ', av_win)\n",
    "print ('Расчет с условием: ', av_gain)"
   ]
  },
  {
   "cell_type": "code",
   "execution_count": 28,
   "metadata": {},
   "outputs": [
    {
     "name": "stdout",
     "output_type": "stream",
     "text": [
      "-0.20000000000000012\n"
     ]
    }
   ],
   "source": [
    "col = len(list_)\n",
    "av_win_teor = ((1/col * (200 + 100 + 50 + 15 + 10) + 5 * len(regex1) / col + 3 * len(regex2) / col +\n",
    "        2 * len(regex3) / col + 1 * len(regex4) / col) * trials - pay) / trials\n",
    "print(av_win_teor)"
   ]
  }
 ],
 "metadata": {
  "kernelspec": {
   "display_name": "Python 3",
   "language": "python",
   "name": "python3"
  },
  "language_info": {
   "codemirror_mode": {
    "name": "ipython",
    "version": 3
   },
   "file_extension": ".py",
   "mimetype": "text/x-python",
   "name": "python",
   "nbconvert_exporter": "python",
   "pygments_lexer": "ipython3",
   "version": "3.8.3"
  }
 },
 "nbformat": 4,
 "nbformat_minor": 4
}
